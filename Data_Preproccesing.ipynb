{
 "cells": [
  {
   "cell_type": "code",
   "execution_count": 1,
   "metadata": {},
   "outputs": [],
   "source": [
    "import numpy as np\n",
    "import pandas as pd\n",
    "\n",
    "# visualization\n",
    "import matplotlib.pyplot as plt\n",
    "import seaborn as sns\n",
    "\n",
    "%matplotlib inline\n",
    "\n",
    "import datetime\n",
    "import time\n",
    "\n",
    "sns.set()"
   ]
  },
  {
   "cell_type": "code",
   "execution_count": 5,
   "metadata": {},
   "outputs": [],
   "source": [
    "df = pd.read_csv(\"/Users/mervehoroz/Desktop/ISDSA_projects/proje3/taxidata.csv\")"
   ]
  },
  {
   "cell_type": "code",
   "execution_count": 6,
   "metadata": {},
   "outputs": [
    {
     "name": "stdout",
     "output_type": "stream",
     "text": [
      "<class 'pandas.core.frame.DataFrame'>\n",
      "RangeIndex: 8106756 entries, 0 to 8106755\n",
      "Data columns (total 29 columns):\n",
      " #   Column                 Dtype  \n",
      "---  ------                 -----  \n",
      " 0   Unnamed: 0             int64  \n",
      " 1   VendorID               int64  \n",
      " 2   passenger_count        int64  \n",
      " 3   trip_distance          float64\n",
      " 4   RatecodeID             int64  \n",
      " 5   store_and_fwd_flag     object \n",
      " 6   PULocationID           int64  \n",
      " 7   DOLocationID           int64  \n",
      " 8   payment_type           int64  \n",
      " 9   fare_amount            float64\n",
      " 10  extra                  float64\n",
      " 11  mta_tax                float64\n",
      " 12  tip_amount             float64\n",
      " 13  tolls_amount           float64\n",
      " 14  improvement_surcharge  float64\n",
      " 15  total_amount           float64\n",
      " 16  congestion_surcharge   float64\n",
      " 17  Taxi                   object \n",
      " 18  trip_duration          object \n",
      " 19  pickup_day             int64  \n",
      " 20  pickup_dayofweek       int64  \n",
      " 21  pickup_nameofday       object \n",
      " 22  pick_hour              int64  \n",
      " 23  pickup_minute          int64  \n",
      " 24  pickup_weekday         object \n",
      " 25  Weather                object \n",
      " 26  Average                float64\n",
      " 27  Precipitation          float64\n",
      " 28  New Snow               float64\n",
      "dtypes: float64(12), int64(11), object(6)\n",
      "memory usage: 1.8+ GB\n"
     ]
    }
   ],
   "source": [
    "df.info()"
   ]
  },
  {
   "cell_type": "code",
   "execution_count": 7,
   "metadata": {},
   "outputs": [
    {
     "data": {
      "text/html": [
       "<div>\n",
       "<style scoped>\n",
       "    .dataframe tbody tr th:only-of-type {\n",
       "        vertical-align: middle;\n",
       "    }\n",
       "\n",
       "    .dataframe tbody tr th {\n",
       "        vertical-align: top;\n",
       "    }\n",
       "\n",
       "    .dataframe thead th {\n",
       "        text-align: right;\n",
       "    }\n",
       "</style>\n",
       "<table border=\"1\" class=\"dataframe\">\n",
       "  <thead>\n",
       "    <tr style=\"text-align: right;\">\n",
       "      <th></th>\n",
       "      <th>count</th>\n",
       "      <th>mean</th>\n",
       "      <th>std</th>\n",
       "      <th>min</th>\n",
       "      <th>25%</th>\n",
       "      <th>50%</th>\n",
       "      <th>75%</th>\n",
       "      <th>max</th>\n",
       "    </tr>\n",
       "  </thead>\n",
       "  <tbody>\n",
       "    <tr>\n",
       "      <th>Unnamed: 0</th>\n",
       "      <td>8106756.0</td>\n",
       "      <td>4.053794e+06</td>\n",
       "      <td>2.340270e+06</td>\n",
       "      <td>0.000000</td>\n",
       "      <td>2.027059e+06</td>\n",
       "      <td>4.053804e+06</td>\n",
       "      <td>6.080509e+06</td>\n",
       "      <td>8.107334e+06</td>\n",
       "    </tr>\n",
       "    <tr>\n",
       "      <th>VendorID</th>\n",
       "      <td>8106756.0</td>\n",
       "      <td>1.662480e+00</td>\n",
       "      <td>5.292745e-01</td>\n",
       "      <td>1.000000</td>\n",
       "      <td>1.000000e+00</td>\n",
       "      <td>2.000000e+00</td>\n",
       "      <td>2.000000e+00</td>\n",
       "      <td>4.000000e+00</td>\n",
       "    </tr>\n",
       "    <tr>\n",
       "      <th>passenger_count</th>\n",
       "      <td>8106756.0</td>\n",
       "      <td>1.572168e+00</td>\n",
       "      <td>1.205840e+00</td>\n",
       "      <td>1.000000</td>\n",
       "      <td>1.000000e+00</td>\n",
       "      <td>1.000000e+00</td>\n",
       "      <td>2.000000e+00</td>\n",
       "      <td>9.000000e+00</td>\n",
       "    </tr>\n",
       "    <tr>\n",
       "      <th>trip_distance</th>\n",
       "      <td>8106756.0</td>\n",
       "      <td>2.876037e+00</td>\n",
       "      <td>3.772331e+00</td>\n",
       "      <td>0.010000</td>\n",
       "      <td>9.400000e-01</td>\n",
       "      <td>1.590000e+00</td>\n",
       "      <td>2.910000e+00</td>\n",
       "      <td>8.318000e+02</td>\n",
       "    </tr>\n",
       "    <tr>\n",
       "      <th>RatecodeID</th>\n",
       "      <td>8106756.0</td>\n",
       "      <td>1.068382e+00</td>\n",
       "      <td>5.538170e-01</td>\n",
       "      <td>1.000000</td>\n",
       "      <td>1.000000e+00</td>\n",
       "      <td>1.000000e+00</td>\n",
       "      <td>1.000000e+00</td>\n",
       "      <td>9.900000e+01</td>\n",
       "    </tr>\n",
       "    <tr>\n",
       "      <th>PULocationID</th>\n",
       "      <td>8106756.0</td>\n",
       "      <td>1.611252e+02</td>\n",
       "      <td>6.845638e+01</td>\n",
       "      <td>1.000000</td>\n",
       "      <td>1.130000e+02</td>\n",
       "      <td>1.610000e+02</td>\n",
       "      <td>2.330000e+02</td>\n",
       "      <td>2.650000e+02</td>\n",
       "    </tr>\n",
       "    <tr>\n",
       "      <th>DOLocationID</th>\n",
       "      <td>8106756.0</td>\n",
       "      <td>1.609884e+02</td>\n",
       "      <td>7.142504e+01</td>\n",
       "      <td>1.000000</td>\n",
       "      <td>1.070000e+02</td>\n",
       "      <td>1.620000e+02</td>\n",
       "      <td>2.340000e+02</td>\n",
       "      <td>2.650000e+02</td>\n",
       "    </tr>\n",
       "    <tr>\n",
       "      <th>payment_type</th>\n",
       "      <td>8106756.0</td>\n",
       "      <td>1.294026e+00</td>\n",
       "      <td>4.681202e-01</td>\n",
       "      <td>1.000000</td>\n",
       "      <td>1.000000e+00</td>\n",
       "      <td>1.000000e+00</td>\n",
       "      <td>2.000000e+00</td>\n",
       "      <td>5.000000e+00</td>\n",
       "    </tr>\n",
       "    <tr>\n",
       "      <th>fare_amount</th>\n",
       "      <td>8106756.0</td>\n",
       "      <td>1.240491e+01</td>\n",
       "      <td>2.191793e+02</td>\n",
       "      <td>0.010000</td>\n",
       "      <td>6.000000e+00</td>\n",
       "      <td>9.000000e+00</td>\n",
       "      <td>1.350000e+01</td>\n",
       "      <td>6.232599e+05</td>\n",
       "    </tr>\n",
       "    <tr>\n",
       "      <th>extra</th>\n",
       "      <td>8106756.0</td>\n",
       "      <td>3.268704e-01</td>\n",
       "      <td>4.602130e-01</td>\n",
       "      <td>0.000000</td>\n",
       "      <td>0.000000e+00</td>\n",
       "      <td>0.000000e+00</td>\n",
       "      <td>5.000000e-01</td>\n",
       "      <td>1.850000e+01</td>\n",
       "    </tr>\n",
       "    <tr>\n",
       "      <th>mta_tax</th>\n",
       "      <td>8106756.0</td>\n",
       "      <td>4.980962e-01</td>\n",
       "      <td>3.082034e-02</td>\n",
       "      <td>0.000000</td>\n",
       "      <td>5.000000e-01</td>\n",
       "      <td>5.000000e-01</td>\n",
       "      <td>5.000000e-01</td>\n",
       "      <td>3.800000e+00</td>\n",
       "    </tr>\n",
       "    <tr>\n",
       "      <th>tip_amount</th>\n",
       "      <td>8106756.0</td>\n",
       "      <td>1.749204e+00</td>\n",
       "      <td>2.390900e+00</td>\n",
       "      <td>0.000000</td>\n",
       "      <td>0.000000e+00</td>\n",
       "      <td>1.360000e+00</td>\n",
       "      <td>2.260000e+00</td>\n",
       "      <td>7.872500e+02</td>\n",
       "    </tr>\n",
       "    <tr>\n",
       "      <th>tolls_amount</th>\n",
       "      <td>8106756.0</td>\n",
       "      <td>3.098324e-01</td>\n",
       "      <td>1.978020e+00</td>\n",
       "      <td>0.000000</td>\n",
       "      <td>0.000000e+00</td>\n",
       "      <td>0.000000e+00</td>\n",
       "      <td>0.000000e+00</td>\n",
       "      <td>3.288000e+03</td>\n",
       "    </tr>\n",
       "    <tr>\n",
       "      <th>improvement_surcharge</th>\n",
       "      <td>8106756.0</td>\n",
       "      <td>2.981980e-01</td>\n",
       "      <td>2.318121e-02</td>\n",
       "      <td>0.000000</td>\n",
       "      <td>3.000000e-01</td>\n",
       "      <td>3.000000e-01</td>\n",
       "      <td>3.000000e-01</td>\n",
       "      <td>6.000000e-01</td>\n",
       "    </tr>\n",
       "    <tr>\n",
       "      <th>total_amount</th>\n",
       "      <td>8106756.0</td>\n",
       "      <td>1.559297e+01</td>\n",
       "      <td>2.193187e+02</td>\n",
       "      <td>0.010000</td>\n",
       "      <td>8.300000e+00</td>\n",
       "      <td>1.130000e+01</td>\n",
       "      <td>1.680000e+01</td>\n",
       "      <td>6.232617e+05</td>\n",
       "    </tr>\n",
       "    <tr>\n",
       "      <th>congestion_surcharge</th>\n",
       "      <td>8106756.0</td>\n",
       "      <td>1.644322e+00</td>\n",
       "      <td>1.205098e+00</td>\n",
       "      <td>0.000000</td>\n",
       "      <td>0.000000e+00</td>\n",
       "      <td>2.500000e+00</td>\n",
       "      <td>2.500000e+00</td>\n",
       "      <td>2.750000e+00</td>\n",
       "    </tr>\n",
       "    <tr>\n",
       "      <th>pickup_day</th>\n",
       "      <td>8106756.0</td>\n",
       "      <td>1.645306e+01</td>\n",
       "      <td>8.824192e+00</td>\n",
       "      <td>1.000000</td>\n",
       "      <td>9.000000e+00</td>\n",
       "      <td>1.600000e+01</td>\n",
       "      <td>2.400000e+01</td>\n",
       "      <td>3.100000e+01</td>\n",
       "    </tr>\n",
       "    <tr>\n",
       "      <th>pickup_dayofweek</th>\n",
       "      <td>8106756.0</td>\n",
       "      <td>2.934884e+00</td>\n",
       "      <td>1.298352e+00</td>\n",
       "      <td>1.000000</td>\n",
       "      <td>2.000000e+00</td>\n",
       "      <td>3.000000e+00</td>\n",
       "      <td>4.000000e+00</td>\n",
       "      <td>5.000000e+00</td>\n",
       "    </tr>\n",
       "    <tr>\n",
       "      <th>pick_hour</th>\n",
       "      <td>8106756.0</td>\n",
       "      <td>1.377987e+01</td>\n",
       "      <td>5.920360e+00</td>\n",
       "      <td>0.000000</td>\n",
       "      <td>1.000000e+01</td>\n",
       "      <td>1.400000e+01</td>\n",
       "      <td>1.900000e+01</td>\n",
       "      <td>2.300000e+01</td>\n",
       "    </tr>\n",
       "    <tr>\n",
       "      <th>pickup_minute</th>\n",
       "      <td>8106756.0</td>\n",
       "      <td>2.953956e+01</td>\n",
       "      <td>1.735027e+01</td>\n",
       "      <td>0.000000</td>\n",
       "      <td>1.400000e+01</td>\n",
       "      <td>3.000000e+01</td>\n",
       "      <td>4.500000e+01</td>\n",
       "      <td>5.900000e+01</td>\n",
       "    </tr>\n",
       "    <tr>\n",
       "      <th>Average</th>\n",
       "      <td>8106756.0</td>\n",
       "      <td>1.754231e-01</td>\n",
       "      <td>5.015037e+00</td>\n",
       "      <td>-12.777778</td>\n",
       "      <td>-2.222222e+00</td>\n",
       "      <td>1.111111e+00</td>\n",
       "      <td>4.166667e+00</td>\n",
       "      <td>9.166667e+00</td>\n",
       "    </tr>\n",
       "    <tr>\n",
       "      <th>Precipitation</th>\n",
       "      <td>8106756.0</td>\n",
       "      <td>1.147038e-01</td>\n",
       "      <td>2.917024e-01</td>\n",
       "      <td>0.000000</td>\n",
       "      <td>0.000000e+00</td>\n",
       "      <td>0.000000e+00</td>\n",
       "      <td>5.000000e-02</td>\n",
       "      <td>1.330000e+00</td>\n",
       "    </tr>\n",
       "    <tr>\n",
       "      <th>New Snow</th>\n",
       "      <td>8106756.0</td>\n",
       "      <td>3.786982e-02</td>\n",
       "      <td>1.192211e-01</td>\n",
       "      <td>0.000000</td>\n",
       "      <td>0.000000e+00</td>\n",
       "      <td>0.000000e+00</td>\n",
       "      <td>0.000000e+00</td>\n",
       "      <td>5.000000e-01</td>\n",
       "    </tr>\n",
       "  </tbody>\n",
       "</table>\n",
       "</div>"
      ],
      "text/plain": [
       "                           count          mean           std        min  \\\n",
       "Unnamed: 0             8106756.0  4.053794e+06  2.340270e+06   0.000000   \n",
       "VendorID               8106756.0  1.662480e+00  5.292745e-01   1.000000   \n",
       "passenger_count        8106756.0  1.572168e+00  1.205840e+00   1.000000   \n",
       "trip_distance          8106756.0  2.876037e+00  3.772331e+00   0.010000   \n",
       "RatecodeID             8106756.0  1.068382e+00  5.538170e-01   1.000000   \n",
       "PULocationID           8106756.0  1.611252e+02  6.845638e+01   1.000000   \n",
       "DOLocationID           8106756.0  1.609884e+02  7.142504e+01   1.000000   \n",
       "payment_type           8106756.0  1.294026e+00  4.681202e-01   1.000000   \n",
       "fare_amount            8106756.0  1.240491e+01  2.191793e+02   0.010000   \n",
       "extra                  8106756.0  3.268704e-01  4.602130e-01   0.000000   \n",
       "mta_tax                8106756.0  4.980962e-01  3.082034e-02   0.000000   \n",
       "tip_amount             8106756.0  1.749204e+00  2.390900e+00   0.000000   \n",
       "tolls_amount           8106756.0  3.098324e-01  1.978020e+00   0.000000   \n",
       "improvement_surcharge  8106756.0  2.981980e-01  2.318121e-02   0.000000   \n",
       "total_amount           8106756.0  1.559297e+01  2.193187e+02   0.010000   \n",
       "congestion_surcharge   8106756.0  1.644322e+00  1.205098e+00   0.000000   \n",
       "pickup_day             8106756.0  1.645306e+01  8.824192e+00   1.000000   \n",
       "pickup_dayofweek       8106756.0  2.934884e+00  1.298352e+00   1.000000   \n",
       "pick_hour              8106756.0  1.377987e+01  5.920360e+00   0.000000   \n",
       "pickup_minute          8106756.0  2.953956e+01  1.735027e+01   0.000000   \n",
       "Average                8106756.0  1.754231e-01  5.015037e+00 -12.777778   \n",
       "Precipitation          8106756.0  1.147038e-01  2.917024e-01   0.000000   \n",
       "New Snow               8106756.0  3.786982e-02  1.192211e-01   0.000000   \n",
       "\n",
       "                                25%           50%           75%           max  \n",
       "Unnamed: 0             2.027059e+06  4.053804e+06  6.080509e+06  8.107334e+06  \n",
       "VendorID               1.000000e+00  2.000000e+00  2.000000e+00  4.000000e+00  \n",
       "passenger_count        1.000000e+00  1.000000e+00  2.000000e+00  9.000000e+00  \n",
       "trip_distance          9.400000e-01  1.590000e+00  2.910000e+00  8.318000e+02  \n",
       "RatecodeID             1.000000e+00  1.000000e+00  1.000000e+00  9.900000e+01  \n",
       "PULocationID           1.130000e+02  1.610000e+02  2.330000e+02  2.650000e+02  \n",
       "DOLocationID           1.070000e+02  1.620000e+02  2.340000e+02  2.650000e+02  \n",
       "payment_type           1.000000e+00  1.000000e+00  2.000000e+00  5.000000e+00  \n",
       "fare_amount            6.000000e+00  9.000000e+00  1.350000e+01  6.232599e+05  \n",
       "extra                  0.000000e+00  0.000000e+00  5.000000e-01  1.850000e+01  \n",
       "mta_tax                5.000000e-01  5.000000e-01  5.000000e-01  3.800000e+00  \n",
       "tip_amount             0.000000e+00  1.360000e+00  2.260000e+00  7.872500e+02  \n",
       "tolls_amount           0.000000e+00  0.000000e+00  0.000000e+00  3.288000e+03  \n",
       "improvement_surcharge  3.000000e-01  3.000000e-01  3.000000e-01  6.000000e-01  \n",
       "total_amount           8.300000e+00  1.130000e+01  1.680000e+01  6.232617e+05  \n",
       "congestion_surcharge   0.000000e+00  2.500000e+00  2.500000e+00  2.750000e+00  \n",
       "pickup_day             9.000000e+00  1.600000e+01  2.400000e+01  3.100000e+01  \n",
       "pickup_dayofweek       2.000000e+00  3.000000e+00  4.000000e+00  5.000000e+00  \n",
       "pick_hour              1.000000e+01  1.400000e+01  1.900000e+01  2.300000e+01  \n",
       "pickup_minute          1.400000e+01  3.000000e+01  4.500000e+01  5.900000e+01  \n",
       "Average               -2.222222e+00  1.111111e+00  4.166667e+00  9.166667e+00  \n",
       "Precipitation          0.000000e+00  0.000000e+00  5.000000e-02  1.330000e+00  \n",
       "New Snow               0.000000e+00  0.000000e+00  0.000000e+00  5.000000e-01  "
      ]
     },
     "execution_count": 7,
     "metadata": {},
     "output_type": "execute_result"
    }
   ],
   "source": [
    "df.describe().T"
   ]
  },
  {
   "cell_type": "code",
   "execution_count": 8,
   "metadata": {},
   "outputs": [],
   "source": [
    "df.drop(columns=[\"Unnamed: 0\",\"tolls_amount\",\"congestion_surcharge\"],inplace=True)"
   ]
  },
  {
   "cell_type": "code",
   "execution_count": 9,
   "metadata": {},
   "outputs": [
    {
     "data": {
      "text/plain": [
       "(0, 800)"
      ]
     },
     "execution_count": 9,
     "metadata": {},
     "output_type": "execute_result"
    },
    {
     "data": {
      "image/png": "[encoded data removed]",
      "text/plain": [
       "<Figure size 936x360 with 1 Axes>"
      ]
     },
     "metadata": {},
     "output_type": "display_data"
    }
   ],
   "source": [
    "#fare amount outliers!\n",
    "plt.figure(figsize=[13,5])\n",
    "ax = sns.boxplot(x=df[\"fare_amount\"])\n",
    "plt.xlim([0,800])"
   ]
  },
  {
   "cell_type": "code",
   "execution_count": 10,
   "metadata": {},
   "outputs": [],
   "source": [
    "df = df.loc[(df[\"fare_amount\"] < 350)]"
   ]
  },
  {
   "cell_type": "code",
   "execution_count": 11,
   "metadata": {},
   "outputs": [
    {
     "data": {
      "text/plain": [
       "(0, 220)"
      ]
     },
     "execution_count": 11,
     "metadata": {},
     "output_type": "execute_result"
    },
    {
     "data": {
      "image/png": "[encoded data removed]",
      "text/plain": [
       "<Figure size 936x360 with 1 Axes>"
      ]
     },
     "metadata": {},
     "output_type": "display_data"
    }
   ],
   "source": [
    "plt.figure(figsize=[13,5])\n",
    "ax = sns.boxplot(x=df[\"trip_distance\"])\n",
    "plt.xlim([0,220])"
   ]
  },
  {
   "cell_type": "code",
   "execution_count": 10,
   "metadata": {},
   "outputs": [],
   "source": [
    "df = df.loc[(df[\"trip_distance\"] < 150)]"
   ]
  },
  {
   "cell_type": "code",
   "execution_count": 11,
   "metadata": {},
   "outputs": [
    {
     "data": {
      "text/plain": [
       "(0, 250)"
      ]
     },
     "execution_count": 11,
     "metadata": {},
     "output_type": "execute_result"
    },
    {
     "data": {
      "image/png": "[encoded data removed]",
      "text/plain": [
       "<Figure size 936x360 with 1 Axes>"
      ]
     },
     "metadata": {},
     "output_type": "display_data"
    }
   ],
   "source": [
    "plt.figure(figsize=[13,5])\n",
    "ax = sns.boxplot(x=df[\"tip_amount\"])\n",
    "plt.xlim([0,250])"
   ]
  },
  {
   "cell_type": "code",
   "execution_count": 12,
   "metadata": {},
   "outputs": [],
   "source": [
    "df = df.loc[(df[\"tip_amount\"] < 150)]"
   ]
  },
  {
   "cell_type": "code",
   "execution_count": 13,
   "metadata": {},
   "outputs": [
    {
     "data": {
      "text/plain": [
       "(0, 1000)"
      ]
     },
     "execution_count": 13,
     "metadata": {},
     "output_type": "execute_result"
    },
    {
     "data": {
      "image/png": "[encoded data removed]",
      "text/plain": [
       "<Figure size 936x360 with 1 Axes>"
      ]
     },
     "metadata": {},
     "output_type": "display_data"
    }
   ],
   "source": [
    "plt.figure(figsize=[13,5])\n",
    "ax = sns.boxplot(x=df[\"total_amount\"])\n",
    "plt.xlim([0,1000])"
   ]
  },
  {
   "cell_type": "code",
   "execution_count": 14,
   "metadata": {},
   "outputs": [],
   "source": [
    "df = df.loc[(df[\"total_amount\"] < 500)]"
   ]
  },
  {
   "cell_type": "code",
   "execution_count": 15,
   "metadata": {},
   "outputs": [
    {
     "data": {
      "text/html": [
       "<div>\n",
       "<style scoped>\n",
       "    .dataframe tbody tr th:only-of-type {\n",
       "        vertical-align: middle;\n",
       "    }\n",
       "\n",
       "    .dataframe tbody tr th {\n",
       "        vertical-align: top;\n",
       "    }\n",
       "\n",
       "    .dataframe thead th {\n",
       "        text-align: right;\n",
       "    }\n",
       "</style>\n",
       "<table border=\"1\" class=\"dataframe\">\n",
       "  <thead>\n",
       "    <tr style=\"text-align: right;\">\n",
       "      <th></th>\n",
       "      <th>count</th>\n",
       "      <th>mean</th>\n",
       "      <th>std</th>\n",
       "      <th>min</th>\n",
       "      <th>25%</th>\n",
       "      <th>50%</th>\n",
       "      <th>75%</th>\n",
       "      <th>max</th>\n",
       "    </tr>\n",
       "  </thead>\n",
       "  <tbody>\n",
       "    <tr>\n",
       "      <th>VendorID</th>\n",
       "      <td>8106665.0</td>\n",
       "      <td>1.662480</td>\n",
       "      <td>0.529274</td>\n",
       "      <td>1.000000</td>\n",
       "      <td>1.000000</td>\n",
       "      <td>2.000000</td>\n",
       "      <td>2.000000</td>\n",
       "      <td>4.000000</td>\n",
       "    </tr>\n",
       "    <tr>\n",
       "      <th>passenger_count</th>\n",
       "      <td>8106665.0</td>\n",
       "      <td>1.572170</td>\n",
       "      <td>1.205843</td>\n",
       "      <td>1.000000</td>\n",
       "      <td>1.000000</td>\n",
       "      <td>1.000000</td>\n",
       "      <td>2.000000</td>\n",
       "      <td>9.000000</td>\n",
       "    </tr>\n",
       "    <tr>\n",
       "      <th>trip_distance</th>\n",
       "      <td>8106665.0</td>\n",
       "      <td>2.875592</td>\n",
       "      <td>3.766889</td>\n",
       "      <td>0.010000</td>\n",
       "      <td>0.940000</td>\n",
       "      <td>1.590000</td>\n",
       "      <td>2.910000</td>\n",
       "      <td>831.800000</td>\n",
       "    </tr>\n",
       "    <tr>\n",
       "      <th>RatecodeID</th>\n",
       "      <td>8106665.0</td>\n",
       "      <td>1.068357</td>\n",
       "      <td>0.553736</td>\n",
       "      <td>1.000000</td>\n",
       "      <td>1.000000</td>\n",
       "      <td>1.000000</td>\n",
       "      <td>1.000000</td>\n",
       "      <td>99.000000</td>\n",
       "    </tr>\n",
       "    <tr>\n",
       "      <th>PULocationID</th>\n",
       "      <td>8106665.0</td>\n",
       "      <td>161.125268</td>\n",
       "      <td>68.456341</td>\n",
       "      <td>1.000000</td>\n",
       "      <td>113.000000</td>\n",
       "      <td>161.000000</td>\n",
       "      <td>233.000000</td>\n",
       "      <td>265.000000</td>\n",
       "    </tr>\n",
       "    <tr>\n",
       "      <th>DOLocationID</th>\n",
       "      <td>8106665.0</td>\n",
       "      <td>160.987830</td>\n",
       "      <td>71.424792</td>\n",
       "      <td>1.000000</td>\n",
       "      <td>107.000000</td>\n",
       "      <td>162.000000</td>\n",
       "      <td>234.000000</td>\n",
       "      <td>265.000000</td>\n",
       "    </tr>\n",
       "    <tr>\n",
       "      <th>payment_type</th>\n",
       "      <td>8106665.0</td>\n",
       "      <td>1.294023</td>\n",
       "      <td>0.468114</td>\n",
       "      <td>1.000000</td>\n",
       "      <td>1.000000</td>\n",
       "      <td>1.000000</td>\n",
       "      <td>2.000000</td>\n",
       "      <td>5.000000</td>\n",
       "    </tr>\n",
       "    <tr>\n",
       "      <th>fare_amount</th>\n",
       "      <td>8106665.0</td>\n",
       "      <td>12.324320</td>\n",
       "      <td>10.844864</td>\n",
       "      <td>0.010000</td>\n",
       "      <td>6.000000</td>\n",
       "      <td>9.000000</td>\n",
       "      <td>13.500000</td>\n",
       "      <td>341.000000</td>\n",
       "    </tr>\n",
       "    <tr>\n",
       "      <th>extra</th>\n",
       "      <td>8106665.0</td>\n",
       "      <td>0.326871</td>\n",
       "      <td>0.460209</td>\n",
       "      <td>0.000000</td>\n",
       "      <td>0.000000</td>\n",
       "      <td>0.000000</td>\n",
       "      <td>0.500000</td>\n",
       "      <td>18.500000</td>\n",
       "    </tr>\n",
       "    <tr>\n",
       "      <th>mta_tax</th>\n",
       "      <td>8106665.0</td>\n",
       "      <td>0.498098</td>\n",
       "      <td>0.030809</td>\n",
       "      <td>0.000000</td>\n",
       "      <td>0.500000</td>\n",
       "      <td>0.500000</td>\n",
       "      <td>0.500000</td>\n",
       "      <td>3.800000</td>\n",
       "    </tr>\n",
       "    <tr>\n",
       "      <th>tip_amount</th>\n",
       "      <td>8106665.0</td>\n",
       "      <td>1.748403</td>\n",
       "      <td>2.341195</td>\n",
       "      <td>0.000000</td>\n",
       "      <td>0.000000</td>\n",
       "      <td>1.360000</td>\n",
       "      <td>2.260000</td>\n",
       "      <td>149.300000</td>\n",
       "    </tr>\n",
       "    <tr>\n",
       "      <th>improvement_surcharge</th>\n",
       "      <td>8106665.0</td>\n",
       "      <td>0.298198</td>\n",
       "      <td>0.023181</td>\n",
       "      <td>0.000000</td>\n",
       "      <td>0.300000</td>\n",
       "      <td>0.300000</td>\n",
       "      <td>0.300000</td>\n",
       "      <td>0.600000</td>\n",
       "    </tr>\n",
       "    <tr>\n",
       "      <th>total_amount</th>\n",
       "      <td>8106665.0</td>\n",
       "      <td>15.510343</td>\n",
       "      <td>13.291045</td>\n",
       "      <td>0.010000</td>\n",
       "      <td>8.300000</td>\n",
       "      <td>11.300000</td>\n",
       "      <td>16.800000</td>\n",
       "      <td>432.100000</td>\n",
       "    </tr>\n",
       "    <tr>\n",
       "      <th>pickup_day</th>\n",
       "      <td>8106665.0</td>\n",
       "      <td>16.453057</td>\n",
       "      <td>8.824197</td>\n",
       "      <td>1.000000</td>\n",
       "      <td>9.000000</td>\n",
       "      <td>16.000000</td>\n",
       "      <td>24.000000</td>\n",
       "      <td>31.000000</td>\n",
       "    </tr>\n",
       "    <tr>\n",
       "      <th>pickup_dayofweek</th>\n",
       "      <td>8106665.0</td>\n",
       "      <td>2.934884</td>\n",
       "      <td>1.298352</td>\n",
       "      <td>1.000000</td>\n",
       "      <td>2.000000</td>\n",
       "      <td>3.000000</td>\n",
       "      <td>4.000000</td>\n",
       "      <td>5.000000</td>\n",
       "    </tr>\n",
       "    <tr>\n",
       "      <th>pick_hour</th>\n",
       "      <td>8106665.0</td>\n",
       "      <td>13.779875</td>\n",
       "      <td>5.920348</td>\n",
       "      <td>0.000000</td>\n",
       "      <td>10.000000</td>\n",
       "      <td>14.000000</td>\n",
       "      <td>19.000000</td>\n",
       "      <td>23.000000</td>\n",
       "    </tr>\n",
       "    <tr>\n",
       "      <th>pickup_minute</th>\n",
       "      <td>8106665.0</td>\n",
       "      <td>29.539598</td>\n",
       "      <td>17.350271</td>\n",
       "      <td>0.000000</td>\n",
       "      <td>14.000000</td>\n",
       "      <td>30.000000</td>\n",
       "      <td>45.000000</td>\n",
       "      <td>59.000000</td>\n",
       "    </tr>\n",
       "    <tr>\n",
       "      <th>Average</th>\n",
       "      <td>8106665.0</td>\n",
       "      <td>0.175422</td>\n",
       "      <td>5.015039</td>\n",
       "      <td>-12.777778</td>\n",
       "      <td>-2.222222</td>\n",
       "      <td>1.111111</td>\n",
       "      <td>4.166667</td>\n",
       "      <td>9.166667</td>\n",
       "    </tr>\n",
       "    <tr>\n",
       "      <th>Precipitation</th>\n",
       "      <td>8106665.0</td>\n",
       "      <td>0.114704</td>\n",
       "      <td>0.291703</td>\n",
       "      <td>0.000000</td>\n",
       "      <td>0.000000</td>\n",
       "      <td>0.000000</td>\n",
       "      <td>0.050000</td>\n",
       "      <td>1.330000</td>\n",
       "    </tr>\n",
       "    <tr>\n",
       "      <th>New Snow</th>\n",
       "      <td>8106665.0</td>\n",
       "      <td>0.037870</td>\n",
       "      <td>0.119221</td>\n",
       "      <td>0.000000</td>\n",
       "      <td>0.000000</td>\n",
       "      <td>0.000000</td>\n",
       "      <td>0.000000</td>\n",
       "      <td>0.500000</td>\n",
       "    </tr>\n",
       "  </tbody>\n",
       "</table>\n",
       "</div>"
      ],
      "text/plain": [
       "                           count        mean        std        min  \\\n",
       "VendorID               8106665.0    1.662480   0.529274   1.000000   \n",
       "passenger_count        8106665.0    1.572170   1.205843   1.000000   \n",
       "trip_distance          8106665.0    2.875592   3.766889   0.010000   \n",
       "RatecodeID             8106665.0    1.068357   0.553736   1.000000   \n",
       "PULocationID           8106665.0  161.125268  68.456341   1.000000   \n",
       "DOLocationID           8106665.0  160.987830  71.424792   1.000000   \n",
       "payment_type           8106665.0    1.294023   0.468114   1.000000   \n",
       "fare_amount            8106665.0   12.324320  10.844864   0.010000   \n",
       "extra                  8106665.0    0.326871   0.460209   0.000000   \n",
       "mta_tax                8106665.0    0.498098   0.030809   0.000000   \n",
       "tip_amount             8106665.0    1.748403   2.341195   0.000000   \n",
       "improvement_surcharge  8106665.0    0.298198   0.023181   0.000000   \n",
       "total_amount           8106665.0   15.510343  13.291045   0.010000   \n",
       "pickup_day             8106665.0   16.453057   8.824197   1.000000   \n",
       "pickup_dayofweek       8106665.0    2.934884   1.298352   1.000000   \n",
       "pick_hour              8106665.0   13.779875   5.920348   0.000000   \n",
       "pickup_minute          8106665.0   29.539598  17.350271   0.000000   \n",
       "Average                8106665.0    0.175422   5.015039 -12.777778   \n",
       "Precipitation          8106665.0    0.114704   0.291703   0.000000   \n",
       "New Snow               8106665.0    0.037870   0.119221   0.000000   \n",
       "\n",
       "                              25%         50%         75%         max  \n",
       "VendorID                 1.000000    2.000000    2.000000    4.000000  \n",
       "passenger_count          1.000000    1.000000    2.000000    9.000000  \n",
       "trip_distance            0.940000    1.590000    2.910000  831.800000  \n",
       "RatecodeID               1.000000    1.000000    1.000000   99.000000  \n",
       "PULocationID           113.000000  161.000000  233.000000  265.000000  \n",
       "DOLocationID           107.000000  162.000000  234.000000  265.000000  \n",
       "payment_type             1.000000    1.000000    2.000000    5.000000  \n",
       "fare_amount              6.000000    9.000000   13.500000  341.000000  \n",
       "extra                    0.000000    0.000000    0.500000   18.500000  \n",
       "mta_tax                  0.500000    0.500000    0.500000    3.800000  \n",
       "tip_amount               0.000000    1.360000    2.260000  149.300000  \n",
       "improvement_surcharge    0.300000    0.300000    0.300000    0.600000  \n",
       "total_amount             8.300000   11.300000   16.800000  432.100000  \n",
       "pickup_day               9.000000   16.000000   24.000000   31.000000  \n",
       "pickup_dayofweek         2.000000    3.000000    4.000000    5.000000  \n",
       "pick_hour               10.000000   14.000000   19.000000   23.000000  \n",
       "pickup_minute           14.000000   30.000000   45.000000   59.000000  \n",
       "Average                 -2.222222    1.111111    4.166667    9.166667  \n",
       "Precipitation            0.000000    0.000000    0.050000    1.330000  \n",
       "New Snow                 0.000000    0.000000    0.000000    0.500000  "
      ]
     },
     "execution_count": 15,
     "metadata": {},
     "output_type": "execute_result"
    }
   ],
   "source": [
    "df.describe().T"
   ]
  },
  {
   "cell_type": "code",
   "execution_count": 16,
   "metadata": {},
   "outputs": [],
   "source": [
    "#yüzde kaç tip olduğunu inceledik\n",
    "df[\"tip_ratio\"] = (100 * df[\"tip_amount\"])/df[\"total_amount\"]"
   ]
  },
  {
   "cell_type": "code",
   "execution_count": 17,
   "metadata": {},
   "outputs": [
    {
     "data": {
      "text/plain": [
       "<Figure size 864x576 with 0 Axes>"
      ]
     },
     "metadata": {},
     "output_type": "display_data"
    },
    {
     "data": {
      "image/png": "[encoded data removed]",
      "text/plain": [
       "<Figure size 1080x504 with 1 Axes>"
      ]
     },
     "metadata": {},
     "output_type": "display_data"
    }
   ],
   "source": [
    "# Tip oranı dağılımı\n",
    "\n",
    "plt.figure(figsize=(12,8))\n",
    "sns.set_palette(\"Set2\")\n",
    "plt.rcParams[\"axes.edgecolor\"] = \"black\"\n",
    "plt.rcParams[\"axes.linewidth\"] = 1\n",
    "\n",
    "fig, ax = plt.subplots(figsize=[15,7])\n",
    "ax = df[\"tip_ratio\"].plot.hist(density=True, ax=ax, bins = 30, color = \"darkblue\")\n",
    "plt.xlim([0,30])\n",
    "plt.ylim([0,0.10])\n",
    "ax.grid(\"off\")\n",
    "ax.set_facecolor(\"white\")\n",
    "plt.xlabel(\"Tip Percentage\")\n",
    "plt.ylabel(\"Frekans\")\n",
    "plt.title(\"Tip Yüzde Dağılımı\", fontsize = 17,weight=\"bold\")\n",
    "plt.show()\n",
    "\n",
    "#plt.savefig(\"tippercentage.jpeg\", dpi = 500)\n"
   ]
  },
  {
   "cell_type": "code",
   "execution_count": 18,
   "metadata": {},
   "outputs": [],
   "source": [
    "df.drop(columns=[\"tip_ratio\"], inplace=True)"
   ]
  },
  {
   "cell_type": "markdown",
   "metadata": {},
   "source": [
    "TARGET oluşturalım!"
   ]
  },
  {
   "cell_type": "code",
   "execution_count": 19,
   "metadata": {},
   "outputs": [],
   "source": [
    "df[\"Tip\"] = [\"Yes\" if i !=0 else \"No\" for i in df[\"tip_amount\"]]"
   ]
  },
  {
   "cell_type": "code",
   "execution_count": 20,
   "metadata": {},
   "outputs": [],
   "source": [
    "df.drop(columns=[\"pickup_dayofweek\"], inplace=True)"
   ]
  },
  {
   "cell_type": "code",
   "execution_count": 22,
   "metadata": {},
   "outputs": [
    {
     "data": {
      "text/plain": [
       "'plt.figure(figsize=[14,8])\\nsns.heatmap(df.corr(),annot=True, vmin=-1, vmax=1,  cmap=\"coolwarm\",annot_kws={\"size\":10})\\nplt.savefig(\"heat.jpeg\", dpi=600,bbox_inches=\"tight\")'"
      ]
     },
     "execution_count": 22,
     "metadata": {},
     "output_type": "execute_result"
    }
   ],
   "source": [
    "\"\"\"plt.figure(figsize=[14,8])\n",
    "sns.heatmap(df.corr(),annot=True, vmin=-1, vmax=1,  cmap=\"coolwarm\",annot_kws={\"size\":10})\n",
    "plt.savefig(\"heat.jpeg\", dpi=600,bbox_inches=\"tight\")\"\"\""
   ]
  },
  {
   "cell_type": "code",
   "execution_count": 23,
   "metadata": {},
   "outputs": [
    {
     "data": {
      "text/plain": [
       "Yes    5372161\n",
       "No     2734504\n",
       "Name: Tip, dtype: int64"
      ]
     },
     "execution_count": 23,
     "metadata": {},
     "output_type": "execute_result"
    }
   ],
   "source": [
    "df.Tip.value_counts()"
   ]
  },
  {
   "cell_type": "code",
   "execution_count": 24,
   "metadata": {},
   "outputs": [
    {
     "data": {
      "text/plain": [
       "<matplotlib.axes._subplots.AxesSubplot at 0x1a2866fa50>"
      ]
     },
     "execution_count": 24,
     "metadata": {},
     "output_type": "execute_result"
    },
    {
     "data": {
      "image/png": "[encoded data removed]",
      "text/plain": [
       "<Figure size 864x504 with 1 Axes>"
      ]
     },
     "metadata": {},
     "output_type": "display_data"
    }
   ],
   "source": [
    "#en çok taksi kullanılan gün\n",
    "weekday_labels = ['Monday', 'Tuesday', 'Wednesday', 'Thursday', 'Friday', 'Saturday', 'Sunday']\n",
    "\n",
    "\n",
    "plt.figure(figsize=[12,7])\n",
    "\n",
    "sns.countplot(df.pickup_nameofday, order=weekday_labels)\n"
   ]
  },
  {
   "cell_type": "code",
   "execution_count": 25,
   "metadata": {},
   "outputs": [
    {
     "data": {
      "text/html": [
       "<div>\n",
       "<style scoped>\n",
       "    .dataframe tbody tr th:only-of-type {\n",
       "        vertical-align: middle;\n",
       "    }\n",
       "\n",
       "    .dataframe tbody tr th {\n",
       "        vertical-align: top;\n",
       "    }\n",
       "\n",
       "    .dataframe thead th {\n",
       "        text-align: right;\n",
       "    }\n",
       "</style>\n",
       "<table border=\"1\" class=\"dataframe\">\n",
       "  <thead>\n",
       "    <tr style=\"text-align: right;\">\n",
       "      <th>Tip</th>\n",
       "      <th>No</th>\n",
       "      <th>Yes</th>\n",
       "      <th>percentage</th>\n",
       "    </tr>\n",
       "    <tr>\n",
       "      <th>pickup_nameofday</th>\n",
       "      <th></th>\n",
       "      <th></th>\n",
       "      <th></th>\n",
       "    </tr>\n",
       "  </thead>\n",
       "  <tbody>\n",
       "    <tr>\n",
       "      <th>Friday</th>\n",
       "      <td>389808</td>\n",
       "      <td>757878</td>\n",
       "      <td>0.660353</td>\n",
       "    </tr>\n",
       "    <tr>\n",
       "      <th>Monday</th>\n",
       "      <td>319258</td>\n",
       "      <td>635627</td>\n",
       "      <td>0.665658</td>\n",
       "    </tr>\n",
       "    <tr>\n",
       "      <th>Saturday</th>\n",
       "      <td>377527</td>\n",
       "      <td>689962</td>\n",
       "      <td>0.646341</td>\n",
       "    </tr>\n",
       "    <tr>\n",
       "      <th>Sunday</th>\n",
       "      <td>314944</td>\n",
       "      <td>590801</td>\n",
       "      <td>0.652282</td>\n",
       "    </tr>\n",
       "    <tr>\n",
       "      <th>Thursday</th>\n",
       "      <td>461967</td>\n",
       "      <td>965414</td>\n",
       "      <td>0.676353</td>\n",
       "    </tr>\n",
       "    <tr>\n",
       "      <th>Tuesday</th>\n",
       "      <td>428511</td>\n",
       "      <td>842036</td>\n",
       "      <td>0.662735</td>\n",
       "    </tr>\n",
       "    <tr>\n",
       "      <th>Wednesday</th>\n",
       "      <td>442489</td>\n",
       "      <td>890443</td>\n",
       "      <td>0.668033</td>\n",
       "    </tr>\n",
       "  </tbody>\n",
       "</table>\n",
       "</div>"
      ],
      "text/plain": [
       "Tip                   No     Yes  percentage\n",
       "pickup_nameofday                            \n",
       "Friday            389808  757878    0.660353\n",
       "Monday            319258  635627    0.665658\n",
       "Saturday          377527  689962    0.646341\n",
       "Sunday            314944  590801    0.652282\n",
       "Thursday          461967  965414    0.676353\n",
       "Tuesday           428511  842036    0.662735\n",
       "Wednesday         442489  890443    0.668033"
      ]
     },
     "execution_count": 25,
     "metadata": {},
     "output_type": "execute_result"
    }
   ],
   "source": [
    "# tip bırakma yüzdesi hangi gün daha fazla?\n",
    "taxifreq = pd.crosstab(index=df[\"pickup_nameofday\"], columns=df[\"Tip\"])\n",
    "taxifreq[\"percentage\"] = taxifreq[\"Yes\"]/(taxifreq[\"No\"]+taxifreq[\"Yes\"])\n",
    "taxifreq"
   ]
  },
  {
   "cell_type": "code",
   "execution_count": 26,
   "metadata": {},
   "outputs": [
    {
     "data": {
      "text/plain": [
       "Text(0, 0.5, 'Tip Counts')"
      ]
     },
     "execution_count": 26,
     "metadata": {},
     "output_type": "execute_result"
    },
    {
     "data": {
      "image/png": "[encoded data removed]",
      "text/plain": [
       "<Figure size 864x504 with 1 Axes>"
      ]
     },
     "metadata": {},
     "output_type": "display_data"
    }
   ],
   "source": [
    "#En çok hangi gün tip alıyoruz ?\n",
    "plt.figure(figsize=[12,7])\n",
    "\n",
    "sns.countplot(df.pickup_nameofday, hue=df.Tip, order=weekday_labels)\n",
    "plt.xlabel(\"Pickup Days\")\n",
    "plt.ylabel(\"Tip Counts\")\n"
   ]
  },
  {
   "cell_type": "code",
   "execution_count": 27,
   "metadata": {},
   "outputs": [
    {
     "data": {
      "image/png": "[encoded data removed]",
      "text/plain": [
       "<Figure size 1080x720 with 1 Axes>"
      ]
     },
     "metadata": {},
     "output_type": "display_data"
    }
   ],
   "source": [
    "# Tip dengesine bakalım\n",
    "\n",
    "plt.figure(figsize=[15,10])\n",
    "sns.set_palette(\"RdBu\")\n",
    "ax = sns.countplot(df.Tip)\n",
    "ax.set_facecolor(\"white\")\n",
    "ax.grid(\"off\")\n",
    "plt.title(\"Tip\", weight=\"bold\", fontsize = 17)\n",
    "plt.savefig(\"tipcount.jpeg\", dpi=500)"
   ]
  },
  {
   "cell_type": "code",
   "execution_count": 28,
   "metadata": {},
   "outputs": [
    {
     "name": "stdout",
     "output_type": "stream",
     "text": [
      "Yes: 66.0%\n",
      "No: 34.0%\n"
     ]
    }
   ],
   "source": [
    "print('Yes: {}%'.format(round((df['Tip'].value_counts()[\"Yes\"] / df.shape[0]), 2)*100))\n",
    "print('No: {}%'.format(round((df['Tip'].value_counts()[\"No\"] / df.shape[0]), 2)*100))"
   ]
  },
  {
   "cell_type": "markdown",
   "metadata": {},
   "source": [
    "# Kolonları Düzenleyelim"
   ]
  },
  {
   "cell_type": "markdown",
   "metadata": {},
   "source": [
    "__Tarife değerlerini düzeltelim!__"
   ]
  },
  {
   "cell_type": "code",
   "execution_count": 29,
   "metadata": {},
   "outputs": [
    {
     "data": {
      "text/plain": [
       "2    5141366\n",
       "1    2888919\n",
       "4      76380\n",
       "Name: VendorID, dtype: int64"
      ]
     },
     "execution_count": 29,
     "metadata": {},
     "output_type": "execute_result"
    }
   ],
   "source": [
    "#1= Creative Mobile Technologies, LLC; 2= VeriFone Inc. temsil eder, bu yüzden 4 hatalı veri. 4 olan veri setini moda gore doldurduk.\n",
    "df.VendorID.value_counts()"
   ]
  },
  {
   "cell_type": "code",
   "execution_count": 30,
   "metadata": {},
   "outputs": [],
   "source": [
    "# eksik verileri doldurduk\n",
    "df[\"VendorID\"] = df[\"VendorID\"].replace(4,2)"
   ]
  },
  {
   "cell_type": "code",
   "execution_count": 31,
   "metadata": {},
   "outputs": [
    {
     "data": {
      "text/plain": [
       "1     7845610\n",
       "2      157010\n",
       "5       87565\n",
       "3       11242\n",
       "4        5130\n",
       "99         91\n",
       "6          17\n",
       "Name: RatecodeID, dtype: int64"
      ]
     },
     "execution_count": 31,
     "metadata": {},
     "output_type": "execute_result"
    }
   ],
   "source": [
    "df.RatecodeID.value_counts()"
   ]
  },
  {
   "cell_type": "code",
   "execution_count": 32,
   "metadata": {},
   "outputs": [],
   "source": [
    "df[\"RatecodeID\"] = df[\"RatecodeID\"].replace(99, 1) #99 eksik değerleri temsil ediyor"
   ]
  },
  {
   "cell_type": "code",
   "execution_count": 33,
   "metadata": {},
   "outputs": [],
   "source": [
    "def airport(airport):\n",
    "    if airport == 2  or airport == 3:\n",
    "        return \"1\"\n",
    "    else:\n",
    "        return \"0\""
   ]
  },
  {
   "cell_type": "code",
   "execution_count": 34,
   "metadata": {},
   "outputs": [],
   "source": [
    "df[\"airport_trip\"] = df.RatecodeID.apply(airport)"
   ]
  },
  {
   "cell_type": "code",
   "execution_count": 35,
   "metadata": {},
   "outputs": [
    {
     "data": {
      "image/png": "[encoded data removed]",
      "text/plain": [
       "<Figure size 432x288 with 1 Axes>"
      ]
     },
     "metadata": {},
     "output_type": "display_data"
    }
   ],
   "source": [
    "#1. tarife diğerlerine gore çok fazla.\n",
    "\n",
    "ax = sns.countplot(df.RatecodeID)# 1 ve diğerleri olarak kategorilere ayırabiliriz.\n",
    "ax.set_facecolor(\"white\")\n",
    "ax.grid(\"off\")\n",
    "plt.title(\"RateID\", fontsize = 17)\n",
    "plt.savefig(\"rateid.jpeg\", dpi = 500)"
   ]
  },
  {
   "cell_type": "code",
   "execution_count": 36,
   "metadata": {},
   "outputs": [],
   "source": [
    "# 1 : Standart Rate 0 : Others\n",
    "df[\"RatecodeID\"] = [\"1\" if i ==1 else \"0\" for i in df[\"RatecodeID\"]]"
   ]
  },
  {
   "cell_type": "markdown",
   "metadata": {},
   "source": [
    "__Ödeme Tiperini düzeltelim!__"
   ]
  },
  {
   "cell_type": "code",
   "execution_count": 37,
   "metadata": {},
   "outputs": [
    {
     "data": {
      "text/plain": [
       "1    5762332\n",
       "2    2312728\n",
       "3      24013\n",
       "4       7573\n",
       "5         19\n",
       "Name: payment_type, dtype: int64"
      ]
     },
     "execution_count": 37,
     "metadata": {},
     "output_type": "execute_result"
    }
   ],
   "source": [
    "# 1 : Credit Card. 2 : Cash 3 : Others\n",
    "df.payment_type.value_counts()"
   ]
  },
  {
   "cell_type": "code",
   "execution_count": 38,
   "metadata": {},
   "outputs": [],
   "source": [
    "result_map = {1: '1', 2: '2'}\n",
    "df[\"payment_type\"] = [result_map[x] if x in result_map else '3' for x in df[\"payment_type\"]]"
   ]
  },
  {
   "cell_type": "markdown",
   "metadata": {},
   "source": [
    "__Yolcu sayılarını kategoriye ayırdık!__"
   ]
  },
  {
   "cell_type": "code",
   "execution_count": 39,
   "metadata": {},
   "outputs": [
    {
     "data": {
      "text/plain": [
       "1    5941202\n",
       "2    1149492\n",
       "5     342604\n",
       "3     320906\n",
       "6     209582\n",
       "4     142847\n",
       "8         18\n",
       "7          8\n",
       "9          6\n",
       "Name: passenger_count, dtype: int64"
      ]
     },
     "execution_count": 39,
     "metadata": {},
     "output_type": "execute_result"
    }
   ],
   "source": [
    "df.passenger_count.value_counts()"
   ]
  },
  {
   "cell_type": "code",
   "execution_count": 40,
   "metadata": {},
   "outputs": [
    {
     "data": {
      "image/png": "[encoded data removed]",
      "text/plain": [
       "<Figure size 432x288 with 1 Axes>"
      ]
     },
     "metadata": {},
     "output_type": "display_data"
    }
   ],
   "source": [
    "\n",
    "ax = sns.countplot(df.passenger_count)\n",
    "plt.title(\"Passenger Count\", fontsize=17)\n",
    "ax.set_facecolor(\"white\")\n",
    "plt.xlabel(\"Passenger Count\")\n",
    "plt.ylabel(\"Frequency\")\n",
    "ax.grid(\"off\")\n",
    "\n",
    "plt.savefig(\"passengercount.jpeg\", dpi=500, bbox_inches = \"tight\")"
   ]
  },
  {
   "cell_type": "code",
   "execution_count": 41,
   "metadata": {},
   "outputs": [],
   "source": [
    "passenger_map = {1: '1', 2: '2-4', 3: '2-4', 4: '2-4'}\n",
    "df[\"passenger_count\"] = [passenger_map[x] if x in passenger_map else '5-9' for x in df[\"passenger_count\"]]"
   ]
  },
  {
   "cell_type": "code",
   "execution_count": 42,
   "metadata": {},
   "outputs": [],
   "source": [
    "#Weekday kolonunu düzenledik\n",
    "weekday = {'Weekday' : 1, 'Weekend' : 0 }\n",
    "df[\"pickup_weekday\"] = [weekday[x] for x in df[\"pickup_weekday\"]]"
   ]
  },
  {
   "cell_type": "code",
   "execution_count": 43,
   "metadata": {},
   "outputs": [],
   "source": [
    "#Taxi kolonunu düzenledik\n",
    "taxi = {\"Yellow\" : 1, \"Green\" : 2}\n",
    "df[\"Taxi\"] = [taxi[x] for x in df[\"Taxi\"]]"
   ]
  },
  {
   "cell_type": "markdown",
   "metadata": {},
   "source": [
    " __Rush Hourları belirleyelim.__"
   ]
  },
  {
   "cell_type": "code",
   "execution_count": 44,
   "metadata": {},
   "outputs": [],
   "source": [
    "def rush_hour(hour):\n",
    "    if ((hour >= 7 and hour <= 9) or (hour >= 16 and hour <= 18)):\n",
    "        return \"1\"\n",
    "    else:\n",
    "        return \"0\""
   ]
  },
  {
   "cell_type": "code",
   "execution_count": 45,
   "metadata": {},
   "outputs": [],
   "source": [
    "df[\"rush_hour\"] = df.pick_hour.apply(rush_hour)"
   ]
  },
  {
   "cell_type": "markdown",
   "metadata": {},
   "source": [
    "__Trip distance kategoriledik.__"
   ]
  },
  {
   "cell_type": "code",
   "execution_count": 46,
   "metadata": {},
   "outputs": [
    {
     "data": {
      "image/png": "[encoded data removed]",
      "text/plain": [
       "<Figure size 432x288 with 1 Axes>"
      ]
     },
     "metadata": {},
     "output_type": "display_data"
    }
   ],
   "source": [
    "ax = df[\"trip_distance\"].plot.hist(density=True, bins = 30, color=\"#418FDD\")\n",
    "ax.grid(\"off\")\n",
    "ax.set_facecolor(\"white\")\n",
    "plt.title(\"Trip Distance\", fontsize=17)\n",
    "plt.xlim([0,40])\n",
    "plt.xlabel(\"Trip Distance\")\n",
    "plt.savefig(\"tripdistance.jpeg\", dpi=500)\n",
    "\n"
   ]
  },
  {
   "cell_type": "code",
   "execution_count": 47,
   "metadata": {},
   "outputs": [],
   "source": [
    "def distance(dist):\n",
    "    if (dist >=0 and dist <=5):\n",
    "        return \"0-5\"\n",
    "    elif (dist >5 and dist <=10):\n",
    "        return \"5-10\"\n",
    "    else:\n",
    "        return \"10>\""
   ]
  },
  {
   "cell_type": "code",
   "execution_count": 48,
   "metadata": {},
   "outputs": [],
   "source": [
    "df[\"trip_distance\"] = df.trip_distance.apply(distance)"
   ]
  },
  {
   "cell_type": "code",
   "execution_count": 49,
   "metadata": {},
   "outputs": [
    {
     "name": "stdout",
     "output_type": "stream",
     "text": [
      "<class 'pandas.core.frame.DataFrame'>\n",
      "Int64Index: 8106665 entries, 0 to 8106755\n",
      "Data columns (total 28 columns):\n",
      " #   Column                 Dtype  \n",
      "---  ------                 -----  \n",
      " 0   VendorID               int64  \n",
      " 1   passenger_count        object \n",
      " 2   trip_distance          object \n",
      " 3   RatecodeID             object \n",
      " 4   store_and_fwd_flag     object \n",
      " 5   PULocationID           int64  \n",
      " 6   DOLocationID           int64  \n",
      " 7   payment_type           object \n",
      " 8   fare_amount            float64\n",
      " 9   extra                  float64\n",
      " 10  mta_tax                float64\n",
      " 11  tip_amount             float64\n",
      " 12  improvement_surcharge  float64\n",
      " 13  total_amount           float64\n",
      " 14  Taxi                   int64  \n",
      " 15  trip_duration          object \n",
      " 16  pickup_day             int64  \n",
      " 17  pickup_nameofday       object \n",
      " 18  pick_hour              int64  \n",
      " 19  pickup_minute          int64  \n",
      " 20  pickup_weekday         int64  \n",
      " 21  Weather                object \n",
      " 22  Average                float64\n",
      " 23  Precipitation          float64\n",
      " 24  New Snow               float64\n",
      " 25  Tip                    object \n",
      " 26  airport_trip           object \n",
      " 27  rush_hour              object \n",
      "dtypes: float64(9), int64(8), object(11)\n",
      "memory usage: 1.8+ GB\n"
     ]
    }
   ],
   "source": [
    "df.info()"
   ]
  },
  {
   "cell_type": "code",
   "execution_count": 50,
   "metadata": {},
   "outputs": [],
   "source": [
    "#Total amount tip ve extraları içeriyor bu degeleri cıkaralım.\n",
    "df[\"total_amount\"] = df[\"total_amount\"] - df[\"tip_amount\"] - df[\"extra\"]"
   ]
  },
  {
   "cell_type": "code",
   "execution_count": 51,
   "metadata": {},
   "outputs": [
    {
     "data": {
      "text/plain": [
       "0.50    8075809\n",
       "0.00      30852\n",
       "0.35          2\n",
       "1.00          1\n",
       "3.80          1\n",
       "Name: mta_tax, dtype: int64"
      ]
     },
     "execution_count": 51,
     "metadata": {},
     "output_type": "execute_result"
    }
   ],
   "source": [
    "df.mta_tax.value_counts()"
   ]
  },
  {
   "cell_type": "code",
   "execution_count": 52,
   "metadata": {},
   "outputs": [
    {
     "data": {
      "text/plain": [
       "0.3    8057969\n",
       "0.0      48695\n",
       "0.6          1\n",
       "Name: improvement_surcharge, dtype: int64"
      ]
     },
     "execution_count": 52,
     "metadata": {},
     "output_type": "execute_result"
    }
   ],
   "source": [
    "df.improvement_surcharge.value_counts()"
   ]
  },
  {
   "cell_type": "code",
   "execution_count": 53,
   "metadata": {},
   "outputs": [],
   "source": [
    "#bu kolonlar \"total amount\" kolonuna dahil. Ayrıca tip amount sonucları etkilememesi için çıkardık.\n",
    "df.drop(columns=[\"mta_tax\",\"improvement_surcharge\",\"fare_amount\",\"tip_amount\"], inplace=True)"
   ]
  },
  {
   "cell_type": "code",
   "execution_count": 54,
   "metadata": {},
   "outputs": [
    {
     "data": {
      "text/plain": [
       "0.0    7284273\n",
       "0.4     290388\n",
       "0.5     281470\n",
       "0.2     250534\n",
       "Name: New Snow, dtype: int64"
      ]
     },
     "execution_count": 54,
     "metadata": {},
     "output_type": "execute_result"
    }
   ],
   "source": [
    "df[\"New Snow\"].value_counts()"
   ]
  },
  {
   "cell_type": "code",
   "execution_count": 55,
   "metadata": {},
   "outputs": [],
   "source": [
    "df = df.rename(columns={\"New Snow\":\"new_snow\",\"pick_hour\":\"pickup_hour\"})"
   ]
  },
  {
   "cell_type": "code",
   "execution_count": 56,
   "metadata": {},
   "outputs": [],
   "source": [
    "df[\"airport_trip\"] = df[\"airport_trip\"].astype(int)\n",
    "df[\"rush_hour\"] = df[\"rush_hour\"].astype(int)"
   ]
  },
  {
   "cell_type": "markdown",
   "metadata": {},
   "source": [
    "# EDA"
   ]
  },
  {
   "cell_type": "code",
   "execution_count": 57,
   "metadata": {},
   "outputs": [
    {
     "data": {
      "text/html": [
       "<div>\n",
       "<style scoped>\n",
       "    .dataframe tbody tr th:only-of-type {\n",
       "        vertical-align: middle;\n",
       "    }\n",
       "\n",
       "    .dataframe tbody tr th {\n",
       "        vertical-align: top;\n",
       "    }\n",
       "\n",
       "    .dataframe thead th {\n",
       "        text-align: right;\n",
       "    }\n",
       "</style>\n",
       "<table border=\"1\" class=\"dataframe\">\n",
       "  <thead>\n",
       "    <tr style=\"text-align: right;\">\n",
       "      <th>Tip</th>\n",
       "      <th>No</th>\n",
       "      <th>Yes</th>\n",
       "      <th>percentage</th>\n",
       "    </tr>\n",
       "    <tr>\n",
       "      <th>Taxi</th>\n",
       "      <th></th>\n",
       "      <th></th>\n",
       "      <th></th>\n",
       "    </tr>\n",
       "  </thead>\n",
       "  <tbody>\n",
       "    <tr>\n",
       "      <th>1</th>\n",
       "      <td>2331951</td>\n",
       "      <td>5158288</td>\n",
       "      <td>0.688668</td>\n",
       "    </tr>\n",
       "    <tr>\n",
       "      <th>2</th>\n",
       "      <td>402553</td>\n",
       "      <td>213873</td>\n",
       "      <td>0.346956</td>\n",
       "    </tr>\n",
       "  </tbody>\n",
       "</table>\n",
       "</div>"
      ],
      "text/plain": [
       "Tip        No      Yes  percentage\n",
       "Taxi                              \n",
       "1     2331951  5158288    0.688668\n",
       "2      402553   213873    0.346956"
      ]
     },
     "execution_count": 57,
     "metadata": {},
     "output_type": "execute_result"
    }
   ],
   "source": [
    "# taksi çeşidine gore hangi takside daha cok tip bırakılmıs\n",
    "taxifreq = pd.crosstab(index=df[\"Taxi\"], columns=df[\"Tip\"])\n",
    "taxifreq[\"percentage\"] = taxifreq[\"Yes\"]/(taxifreq[\"No\"]+taxifreq[\"Yes\"])\n",
    "taxifreq"
   ]
  },
  {
   "cell_type": "code",
   "execution_count": 58,
   "metadata": {},
   "outputs": [
    {
     "data": {
      "image/png": "[encoded data removed]",
      "text/plain": [
       "<Figure size 864x504 with 1 Axes>"
      ]
     },
     "metadata": {},
     "output_type": "display_data"
    }
   ],
   "source": [
    "\n",
    "ax = taxifreq.plot(kind=\"bar\", y=\"percentage\", use_index=True, legend=None, color = \"#32669b\")\n",
    "plt.gcf().set_size_inches(12, 7)\n",
    "ax.grid(\"off\")\n",
    "ax.set_facecolor(\"white\")\n",
    "plt.xticks(rotation = 360)\n",
    "ax.set_xticklabels([\"Yellow\", \"Green\"])\n",
    "plt.xlabel(\"Taxi\",fontsize=13, weight = \"bold\")\n",
    "plt.ylabel(\"Percentage\",fontsize=13, weight = \"bold\")\n",
    "plt.title(\"Taksi - Tip Yüzdesi\", fontsize=17)\n",
    "\n",
    "plt.savefig(\"taxiperc.jpeg\", dpi=500)\n",
    "\n",
    "plt.show()"
   ]
  },
  {
   "cell_type": "code",
   "execution_count": 59,
   "metadata": {},
   "outputs": [
    {
     "data": {
      "text/html": [
       "<div>\n",
       "<style scoped>\n",
       "    .dataframe tbody tr th:only-of-type {\n",
       "        vertical-align: middle;\n",
       "    }\n",
       "\n",
       "    .dataframe tbody tr th {\n",
       "        vertical-align: top;\n",
       "    }\n",
       "\n",
       "    .dataframe thead th {\n",
       "        text-align: right;\n",
       "    }\n",
       "</style>\n",
       "<table border=\"1\" class=\"dataframe\">\n",
       "  <thead>\n",
       "    <tr style=\"text-align: right;\">\n",
       "      <th>Tip</th>\n",
       "      <th>No</th>\n",
       "      <th>Yes</th>\n",
       "      <th>percentage</th>\n",
       "    </tr>\n",
       "    <tr>\n",
       "      <th>airport_trip</th>\n",
       "      <th></th>\n",
       "      <th></th>\n",
       "      <th></th>\n",
       "    </tr>\n",
       "  </thead>\n",
       "  <tbody>\n",
       "    <tr>\n",
       "      <th>0</th>\n",
       "      <td>2690768</td>\n",
       "      <td>5247645</td>\n",
       "      <td>0.661045</td>\n",
       "    </tr>\n",
       "    <tr>\n",
       "      <th>1</th>\n",
       "      <td>43736</td>\n",
       "      <td>124516</td>\n",
       "      <td>0.740057</td>\n",
       "    </tr>\n",
       "  </tbody>\n",
       "</table>\n",
       "</div>"
      ],
      "text/plain": [
       "Tip                No      Yes  percentage\n",
       "airport_trip                              \n",
       "0             2690768  5247645    0.661045\n",
       "1               43736   124516    0.740057"
      ]
     },
     "execution_count": 59,
     "metadata": {},
     "output_type": "execute_result"
    }
   ],
   "source": [
    "# airport yolculuklarına gore tip bırakılma yüzdesi\n",
    "airport = pd.crosstab(index=df[\"airport_trip\"], columns=df[\"Tip\"])\n",
    "airport[\"percentage\"] = airport[\"Yes\"]/(airport[\"No\"]+airport[\"Yes\"])\n",
    "airport"
   ]
  },
  {
   "cell_type": "code",
   "execution_count": 60,
   "metadata": {},
   "outputs": [
    {
     "data": {
      "image/png": "[encoded data removed]",
      "text/plain": [
       "<Figure size 864x504 with 1 Axes>"
      ]
     },
     "metadata": {},
     "output_type": "display_data"
    }
   ],
   "source": [
    "ax = airport.plot(kind=\"bar\", y=\"percentage\", use_index=True, legend=None, color = \"#32669b\")\n",
    "plt.gcf().set_size_inches(12, 7)\n",
    "plt.xticks(rotation = 360)\n",
    "ax.grid(\"off\")\n",
    "ax.set_facecolor(\"white\")\n",
    "plt.xlabel(\"Airport Trip\",fontsize=13, weight = \"bold\")\n",
    "plt.ylabel(\"Percentage\",fontsize=13, weight = \"bold\")\n",
    "plt.title(\"Airport - Tip Yüzdesi\", fontsize = 17)\n",
    "\n",
    "plt.savefig(\"airport.jpeg\", dpi = 500)"
   ]
  },
  {
   "cell_type": "markdown",
   "metadata": {},
   "source": [
    "# Fix Data types"
   ]
  },
  {
   "cell_type": "markdown",
   "metadata": {},
   "source": [
    "Burada bazı kolonları label encoding bazı kolonları dummy yaptık."
   ]
  },
  {
   "cell_type": "code",
   "execution_count": 61,
   "metadata": {},
   "outputs": [],
   "source": [
    "from sklearn.preprocessing import LabelEncoder"
   ]
  },
  {
   "cell_type": "code",
   "execution_count": 62,
   "metadata": {},
   "outputs": [],
   "source": [
    "le = LabelEncoder()"
   ]
  },
  {
   "cell_type": "code",
   "execution_count": 63,
   "metadata": {},
   "outputs": [],
   "source": [
    "#Trip duration kolonu olusturalım.\n",
    "\n",
    "df[\"trip_duration\"] = [x[7:15] for x in df[\"trip_duration\"]]\n",
    "df[\"trip_duration\"] = df[\"trip_duration\"].str.strip()"
   ]
  },
  {
   "cell_type": "code",
   "execution_count": 64,
   "metadata": {},
   "outputs": [],
   "source": [
    "df = df[df['trip_duration'].map(len) >= 8]"
   ]
  },
  {
   "cell_type": "code",
   "execution_count": 65,
   "metadata": {},
   "outputs": [],
   "source": [
    "def duration_to_minutes(s):\n",
    "    if pd.isnull(s):\n",
    "        val = 0 #note: this fills with 0 the 38 instances with null (missing) values\n",
    "    else:\n",
    "        hms = s.split(':')\n",
    "        val = int(hms[0])*60 + int(hms[1]) + int(hms[2])/60.0\n",
    "    return val"
   ]
  },
  {
   "cell_type": "code",
   "execution_count": 66,
   "metadata": {},
   "outputs": [],
   "source": [
    "#trip duration kolonunu dakika bazında hesapladık\n",
    "df['trip_duration'] = df.trip_duration.apply(duration_to_minutes) "
   ]
  },
  {
   "cell_type": "code",
   "execution_count": 67,
   "metadata": {},
   "outputs": [],
   "source": [
    "pas_count_dummy = pd.get_dummies(df[\"passenger_count\"])\n",
    "df.drop(columns=[\"passenger_count\"], inplace=True)\n",
    "df = df.join(pas_count_dummy)"
   ]
  },
  {
   "cell_type": "code",
   "execution_count": 68,
   "metadata": {},
   "outputs": [],
   "source": [
    "trip_dummy = pd.get_dummies(df[\"trip_distance\"])\n",
    "df.drop(columns=[\"trip_distance\"], inplace=True)\n",
    "df = df.join(trip_dummy)"
   ]
  },
  {
   "cell_type": "code",
   "execution_count": 69,
   "metadata": {},
   "outputs": [],
   "source": [
    "store_dummy = pd.get_dummies(df[\"store_and_fwd_flag\"])\n",
    "df.drop(columns=[\"store_and_fwd_flag\"], inplace=True)\n",
    "df = df.join(store_dummy)"
   ]
  },
  {
   "cell_type": "code",
   "execution_count": 70,
   "metadata": {},
   "outputs": [],
   "source": [
    "df[\"RatecodeID\"] = df[\"RatecodeID\"].astype(int)\n",
    "df[\"payment_type\"] = df[\"payment_type\"].astype(int)"
   ]
  },
  {
   "cell_type": "code",
   "execution_count": 71,
   "metadata": {},
   "outputs": [],
   "source": [
    "df[\"pickup_nameofday\"] = le.fit_transform(df[\"pickup_nameofday\"])"
   ]
  },
  {
   "cell_type": "code",
   "execution_count": 72,
   "metadata": {},
   "outputs": [],
   "source": [
    "df[\"Weather\"] = df[\"Weather\"].astype(str)"
   ]
  },
  {
   "cell_type": "code",
   "execution_count": 73,
   "metadata": {},
   "outputs": [],
   "source": [
    "weather_dummy = pd.get_dummies(df[\"Weather\"])\n",
    "df.drop(columns=[\"Weather\"], inplace=True)\n",
    "df = df.join(weather_dummy)"
   ]
  },
  {
   "cell_type": "code",
   "execution_count": 74,
   "metadata": {},
   "outputs": [],
   "source": [
    "df[\"airport_trip\"] = le.fit_transform(df[\"airport_trip\"])"
   ]
  },
  {
   "cell_type": "code",
   "execution_count": 75,
   "metadata": {},
   "outputs": [],
   "source": [
    "df[\"rush_hour\"] = le.fit_transform(df[\"rush_hour\"])"
   ]
  },
  {
   "cell_type": "code",
   "execution_count": 76,
   "metadata": {},
   "outputs": [],
   "source": [
    "tips = {'Yes' : 1, 'No' : 0 }\n",
    "df[\"Tip\"] = [tips[x] for x in df[\"Tip\"]]"
   ]
  },
  {
   "cell_type": "code",
   "execution_count": 77,
   "metadata": {},
   "outputs": [
    {
     "data": {
      "text/html": [
       "<div>\n",
       "<style scoped>\n",
       "    .dataframe tbody tr th:only-of-type {\n",
       "        vertical-align: middle;\n",
       "    }\n",
       "\n",
       "    .dataframe tbody tr th {\n",
       "        vertical-align: top;\n",
       "    }\n",
       "\n",
       "    .dataframe thead th {\n",
       "        text-align: right;\n",
       "    }\n",
       "</style>\n",
       "<table border=\"1\" class=\"dataframe\">\n",
       "  <thead>\n",
       "    <tr style=\"text-align: right;\">\n",
       "      <th></th>\n",
       "      <th>Taxi</th>\n",
       "      <th>trip_duration</th>\n",
       "      <th>pickup_day</th>\n",
       "      <th>pickup_nameofday</th>\n",
       "      <th>pickup_hour</th>\n",
       "      <th>pickup_minute</th>\n",
       "      <th>pickup_weekday</th>\n",
       "      <th>Average</th>\n",
       "      <th>Precipitation</th>\n",
       "      <th>new_snow</th>\n",
       "      <th>...</th>\n",
       "      <th>5-9</th>\n",
       "      <th>0-5</th>\n",
       "      <th>10&gt;</th>\n",
       "      <th>5-10</th>\n",
       "      <th>N</th>\n",
       "      <th>Y</th>\n",
       "      <th>Clear</th>\n",
       "      <th>Cloudy</th>\n",
       "      <th>Fog</th>\n",
       "      <th>Rain&amp;Fog</th>\n",
       "    </tr>\n",
       "  </thead>\n",
       "  <tbody>\n",
       "    <tr>\n",
       "      <th>0</th>\n",
       "      <td>1</td>\n",
       "      <td>6.666667</td>\n",
       "      <td>1</td>\n",
       "      <td>5</td>\n",
       "      <td>0</td>\n",
       "      <td>46</td>\n",
       "      <td>1</td>\n",
       "      <td>9.166667</td>\n",
       "      <td>0.06</td>\n",
       "      <td>0.0</td>\n",
       "      <td>...</td>\n",
       "      <td>0</td>\n",
       "      <td>1</td>\n",
       "      <td>0</td>\n",
       "      <td>0</td>\n",
       "      <td>1</td>\n",
       "      <td>0</td>\n",
       "      <td>1</td>\n",
       "      <td>0</td>\n",
       "      <td>0</td>\n",
       "      <td>0</td>\n",
       "    </tr>\n",
       "    <tr>\n",
       "      <th>1</th>\n",
       "      <td>1</td>\n",
       "      <td>19.200000</td>\n",
       "      <td>1</td>\n",
       "      <td>5</td>\n",
       "      <td>0</td>\n",
       "      <td>59</td>\n",
       "      <td>1</td>\n",
       "      <td>9.166667</td>\n",
       "      <td>0.06</td>\n",
       "      <td>0.0</td>\n",
       "      <td>...</td>\n",
       "      <td>0</td>\n",
       "      <td>1</td>\n",
       "      <td>0</td>\n",
       "      <td>0</td>\n",
       "      <td>1</td>\n",
       "      <td>0</td>\n",
       "      <td>1</td>\n",
       "      <td>0</td>\n",
       "      <td>0</td>\n",
       "      <td>0</td>\n",
       "    </tr>\n",
       "    <tr>\n",
       "      <th>2</th>\n",
       "      <td>1</td>\n",
       "      <td>7.150000</td>\n",
       "      <td>1</td>\n",
       "      <td>5</td>\n",
       "      <td>0</td>\n",
       "      <td>21</td>\n",
       "      <td>1</td>\n",
       "      <td>9.166667</td>\n",
       "      <td>0.06</td>\n",
       "      <td>0.0</td>\n",
       "      <td>...</td>\n",
       "      <td>0</td>\n",
       "      <td>1</td>\n",
       "      <td>0</td>\n",
       "      <td>0</td>\n",
       "      <td>1</td>\n",
       "      <td>0</td>\n",
       "      <td>1</td>\n",
       "      <td>0</td>\n",
       "      <td>0</td>\n",
       "      <td>0</td>\n",
       "    </tr>\n",
       "    <tr>\n",
       "      <th>3</th>\n",
       "      <td>1</td>\n",
       "      <td>13.633333</td>\n",
       "      <td>1</td>\n",
       "      <td>5</td>\n",
       "      <td>0</td>\n",
       "      <td>32</td>\n",
       "      <td>1</td>\n",
       "      <td>9.166667</td>\n",
       "      <td>0.06</td>\n",
       "      <td>0.0</td>\n",
       "      <td>...</td>\n",
       "      <td>0</td>\n",
       "      <td>1</td>\n",
       "      <td>0</td>\n",
       "      <td>0</td>\n",
       "      <td>1</td>\n",
       "      <td>0</td>\n",
       "      <td>1</td>\n",
       "      <td>0</td>\n",
       "      <td>0</td>\n",
       "      <td>0</td>\n",
       "    </tr>\n",
       "    <tr>\n",
       "      <th>4</th>\n",
       "      <td>1</td>\n",
       "      <td>12.000000</td>\n",
       "      <td>1</td>\n",
       "      <td>5</td>\n",
       "      <td>0</td>\n",
       "      <td>57</td>\n",
       "      <td>1</td>\n",
       "      <td>9.166667</td>\n",
       "      <td>0.06</td>\n",
       "      <td>0.0</td>\n",
       "      <td>...</td>\n",
       "      <td>0</td>\n",
       "      <td>1</td>\n",
       "      <td>0</td>\n",
       "      <td>0</td>\n",
       "      <td>1</td>\n",
       "      <td>0</td>\n",
       "      <td>1</td>\n",
       "      <td>0</td>\n",
       "      <td>0</td>\n",
       "      <td>0</td>\n",
       "    </tr>\n",
       "  </tbody>\n",
       "</table>\n",
       "<p>5 rows × 25 columns</p>\n",
       "</div>"
      ],
      "text/plain": [
       "   Taxi  trip_duration  pickup_day  pickup_nameofday  pickup_hour  \\\n",
       "0     1       6.666667           1                 5            0   \n",
       "1     1      19.200000           1                 5            0   \n",
       "2     1       7.150000           1                 5            0   \n",
       "3     1      13.633333           1                 5            0   \n",
       "4     1      12.000000           1                 5            0   \n",
       "\n",
       "   pickup_minute  pickup_weekday   Average  Precipitation  new_snow  ...  5-9  \\\n",
       "0             46               1  9.166667           0.06       0.0  ...    0   \n",
       "1             59               1  9.166667           0.06       0.0  ...    0   \n",
       "2             21               1  9.166667           0.06       0.0  ...    0   \n",
       "3             32               1  9.166667           0.06       0.0  ...    0   \n",
       "4             57               1  9.166667           0.06       0.0  ...    0   \n",
       "\n",
       "   0-5  10>  5-10  N  Y  Clear  Cloudy  Fog  Rain&Fog  \n",
       "0    1    0     0  1  0      1       0    0         0  \n",
       "1    1    0     0  1  0      1       0    0         0  \n",
       "2    1    0     0  1  0      1       0    0         0  \n",
       "3    1    0     0  1  0      1       0    0         0  \n",
       "4    1    0     0  1  0      1       0    0         0  \n",
       "\n",
       "[5 rows x 25 columns]"
      ]
     },
     "execution_count": 77,
     "metadata": {},
     "output_type": "execute_result"
    }
   ],
   "source": [
    "df.iloc[:,7:].head()"
   ]
  },
  {
   "cell_type": "code",
   "execution_count": 78,
   "metadata": {},
   "outputs": [],
   "source": [
    "#plt.figure(figsize=[15,7])\n",
    "#sns.scatterplot(x=\"total_amount\", y=\"trip_duration\", hue = \"Tip\", data=df)"
   ]
  },
  {
   "cell_type": "code",
   "execution_count": 79,
   "metadata": {},
   "outputs": [
    {
     "data": {
      "image/png": "[encoded data removed]",
      "text/plain": [
       "<Figure size 1080x720 with 1 Axes>"
      ]
     },
     "metadata": {},
     "output_type": "display_data"
    }
   ],
   "source": [
    "\n",
    "plt.figure(figsize=[15,10])\n",
    "ax = sns.scatterplot(x=\"total_amount\", y=\"trip_duration\",hue=\"Tip\", palette=\"husl\",data=df)\n",
    "plt.xlabel(\"Total Amount\",fontsize = 13)\n",
    "plt.ylabel(\"Trip Duration\",fontsize = 13)\n",
    "ax.set_facecolor(\"white\")\n",
    "plt.title(\"Total Amount - Trip Duration\", fontsize=17,weight=\"bold\")\n",
    "plt.savefig(\"trip.jpeg\", dpi = 500, bbox_inches=\"tight\")\n",
    "\n",
    "plt.show()"
   ]
  },
  {
   "cell_type": "code",
   "execution_count": 80,
   "metadata": {},
   "outputs": [],
   "source": [
    "#plt.figure(figsize=[15,7])\n",
    "#sns.scatterplot(x=\"pickup_hour\", y=\"trip_duration\", hue = \"Tip\", data=df)"
   ]
  },
  {
   "cell_type": "code",
   "execution_count": 81,
   "metadata": {},
   "outputs": [],
   "source": [
    "#df.to_csv(\"taxi.csv\")"
   ]
  },
  {
   "cell_type": "code",
   "execution_count": null,
   "metadata": {},
   "outputs": [],
   "source": []
  },
  {
   "cell_type": "code",
   "execution_count": null,
   "metadata": {},
   "outputs": [],
   "source": []
  },
  {
   "cell_type": "code",
   "execution_count": null,
   "metadata": {},
   "outputs": [],
   "source": []
  }
 ],
 "metadata": {
  "kernelspec": {
   "display_name": "Python 3",
   "language": "python",
   "name": "python3"
  },
  "language_info": {
   "codemirror_mode": {
    "name": "ipython",
    "version": 3
   },
   "file_extension": ".py",
   "mimetype": "text/x-python",
   "name": "python",
   "nbconvert_exporter": "python",
   "pygments_lexer": "ipython3",
   "version": "3.7.6"
  }
 },
 "nbformat": 4,
 "nbformat_minor": 4
}
